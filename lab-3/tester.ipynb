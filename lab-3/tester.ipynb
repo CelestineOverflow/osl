{
 "cells": [
  {
   "cell_type": "code",
   "execution_count": 4,
   "metadata": {},
   "outputs": [],
   "source": [
    "import socket\n",
    "\n",
    "udp_server_ip = 'localhost'\n",
    "udp_server_port = 9999\n",
    "\n",
    "def sendStringToServer(udp_server_ip, udp_server_port, string_to_send):\n",
    "    client_socket = socket.socket(socket.AF_INET, socket.SOCK_DGRAM)\n",
    "    client_socket.sendto(string_to_send.encode(), (udp_server_ip, udp_server_port))\n",
    "    client_socket.close()\n",
    "    \n",
    "sendStringToServer(udp_server_ip, udp_server_port, 'Hedddllrfghjklo World\\n')"
   ]
  }
 ],
 "metadata": {
  "kernelspec": {
   "display_name": "Python 3",
   "language": "python",
   "name": "python3"
  },
  "language_info": {
   "codemirror_mode": {
    "name": "ipython",
    "version": 3
   },
   "file_extension": ".py",
   "mimetype": "text/x-python",
   "name": "python",
   "nbconvert_exporter": "python",
   "pygments_lexer": "ipython3",
   "version": "3.11.0"
  },
  "orig_nbformat": 4
 },
 "nbformat": 4,
 "nbformat_minor": 2
}
